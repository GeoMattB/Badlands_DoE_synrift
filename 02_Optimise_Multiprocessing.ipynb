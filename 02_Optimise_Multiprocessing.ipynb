{
 "cells": [
  {
   "cell_type": "markdown",
   "id": "772f40a2",
   "metadata": {},
   "source": [
    "## Multiprocessing optimisation\n",
    "\n",
    "On typical PCs the number of simultaneous experiment runs will be limited by CPU capability, ram or disk speed. To evaluate what the optimal number of simulataneous processes than may be run for a set of experiments, this tool may be used.\n",
    "\n",
    "* starts with 2 processes then increments by procStep until max CPU (determined by querying system) is reached.\n",
    "* It only runs the first 2 timesteps of each model, for complex models these may not be indicative of the processing load.\n",
    "* **This creates a mess of files in the experiment / badlands output directories which will need to be deleted before running the experiments in full**\n"
   ]
  },
  {
   "cell_type": "code",
   "execution_count": 1,
   "id": "f9907af4",
   "metadata": {},
   "outputs": [
    {
     "name": "stdout",
     "output_type": "stream",
     "text": [
      "AMD Ryzen 9 5900X 12-Core Processor\n",
      "24\n",
      "number of threads available here: 24\n",
      "test proc no.: 2\n",
      "Checking XML files are valid. If there is an error after this then there is something wrong with your configuration xml.\n",
      "All good, simple xml check passed, number of experiment configuration files loaded: 120\n",
      "Starting parallel experiment test runs using multiprocessing: 2 processes\n",
      "Simulations completed; total processing time: 10.63 minutes\n",
      "test proc no.: 4\n",
      "Checking XML files are valid. If there is an error after this then there is something wrong with your configuration xml.\n",
      "All good, simple xml check passed, number of experiment configuration files loaded: 120\n",
      "Starting parallel experiment test runs using multiprocessing: 4 processes\n",
      "Simulations completed; total processing time: 6.42 minutes\n",
      "test proc no.: 6\n",
      "Checking XML files are valid. If there is an error after this then there is something wrong with your configuration xml.\n",
      "All good, simple xml check passed, number of experiment configuration files loaded: 120\n",
      "Starting parallel experiment test runs using multiprocessing: 6 processes\n",
      "Simulations completed; total processing time: 4.96 minutes\n",
      "test proc no.: 8\n",
      "Checking XML files are valid. If there is an error after this then there is something wrong with your configuration xml.\n",
      "All good, simple xml check passed, number of experiment configuration files loaded: 120\n",
      "Starting parallel experiment test runs using multiprocessing: 8 processes\n",
      "Simulations completed; total processing time: 4.43 minutes\n",
      "test proc no.: 10\n",
      "Checking XML files are valid. If there is an error after this then there is something wrong with your configuration xml.\n",
      "All good, simple xml check passed, number of experiment configuration files loaded: 120\n",
      "Starting parallel experiment test runs using multiprocessing: 10 processes\n",
      "Simulations completed; total processing time: 4.23 minutes\n",
      "test proc no.: 12\n",
      "Checking XML files are valid. If there is an error after this then there is something wrong with your configuration xml.\n",
      "All good, simple xml check passed, number of experiment configuration files loaded: 120\n",
      "Starting parallel experiment test runs using multiprocessing: 12 processes\n",
      "Simulations completed; total processing time: 4.17 minutes\n",
      "test proc no.: 14\n",
      "Checking XML files are valid. If there is an error after this then there is something wrong with your configuration xml.\n",
      "All good, simple xml check passed, number of experiment configuration files loaded: 120\n",
      "Starting parallel experiment test runs using multiprocessing: 14 processes\n",
      "Simulations completed; total processing time: 4.16 minutes\n",
      "test proc no.: 16\n",
      "Checking XML files are valid. If there is an error after this then there is something wrong with your configuration xml.\n",
      "All good, simple xml check passed, number of experiment configuration files loaded: 120\n",
      "Starting parallel experiment test runs using multiprocessing: 16 processes\n",
      "Simulations completed; total processing time: 4.15 minutes\n",
      "test proc no.: 18\n",
      "Checking XML files are valid. If there is an error after this then there is something wrong with your configuration xml.\n",
      "All good, simple xml check passed, number of experiment configuration files loaded: 120\n",
      "Starting parallel experiment test runs using multiprocessing: 18 processes\n",
      "Simulations completed; total processing time: 4.18 minutes\n",
      "test proc no.: 20\n",
      "Checking XML files are valid. If there is an error after this then there is something wrong with your configuration xml.\n",
      "All good, simple xml check passed, number of experiment configuration files loaded: 120\n",
      "Starting parallel experiment test runs using multiprocessing: 20 processes\n",
      "Simulations completed; total processing time: 4.25 minutes\n",
      "test proc no.: 22\n",
      "Checking XML files are valid. If there is an error after this then there is something wrong with your configuration xml.\n",
      "All good, simple xml check passed, number of experiment configuration files loaded: 120\n",
      "Starting parallel experiment test runs using multiprocessing: 22 processes\n",
      "Simulations completed; total processing time: 4.34 minutes\n",
      "test proc no.: 24\n",
      "Checking XML files are valid. If there is an error after this then there is something wrong with your configuration xml.\n",
      "All good, simple xml check passed, number of experiment configuration files loaded: 120\n",
      "Starting parallel experiment test runs using multiprocessing: 24 processes\n",
      "Simulations completed; total processing time: 4.32 minutes\n",
      "(2, 10.63)\n",
      "(4, 6.42)\n",
      "(6, 4.96)\n",
      "(8, 4.43)\n",
      "(10, 4.23)\n",
      "(12, 4.17)\n",
      "(14, 4.16)\n",
      "(16, 4.15)\n",
      "(18, 4.18)\n",
      "(20, 4.25)\n",
      "(22, 4.34)\n",
      "(24, 4.32)\n"
     ]
    }
   ],
   "source": [
    "import cpuinfo\n",
    "print(cpuinfo.get_cpu_info()['brand_raw'])\n",
    "print(cpuinfo.get_cpu_info()['count'])\n",
    "\n",
    "import badlands_doe_toolset.badlands_multiproc_run as mpr\n",
    "# this runs some tests to estimate the benefit of running more than one model at a time \n",
    "# tests are for all models with run to time set at 2 x the display interval.\n",
    "speed_test=mpr.badlands_optimise_multiproc('badlands_xml')\n",
    "for i in range(0,len(speed_test)):\n",
    "    print (speed_test[i])"
   ]
  },
  {
   "cell_type": "code",
   "execution_count": 4,
   "id": "78e29b14",
   "metadata": {},
   "outputs": [
    {
     "name": "stdout",
     "output_type": "stream",
     "text": [
      "Intel(R) Core(TM) i7-7920HQ CPU @ 3.10GHz\n",
      "8\n"
     ]
    }
   ],
   "source": [
    "import cpuinfo\n",
    "print(cpuinfo.get_cpu_info()['brand_raw'])\n",
    "print(cpuinfo.get_cpu_info()['count'])"
   ]
  },
  {
   "cell_type": "code",
   "execution_count": null,
   "id": "5d55cdc6",
   "metadata": {},
   "outputs": [],
   "source": [
    "10 - 70\n"
   ]
  }
 ],
 "metadata": {
  "kernelspec": {
   "display_name": "Python 3 (ipykernel)",
   "language": "python",
   "name": "python3"
  },
  "language_info": {
   "codemirror_mode": {
    "name": "ipython",
    "version": 3
   },
   "file_extension": ".py",
   "mimetype": "text/x-python",
   "name": "python",
   "nbconvert_exporter": "python",
   "pygments_lexer": "ipython3",
   "version": "3.9.2"
  }
 },
 "nbformat": 4,
 "nbformat_minor": 5
}
