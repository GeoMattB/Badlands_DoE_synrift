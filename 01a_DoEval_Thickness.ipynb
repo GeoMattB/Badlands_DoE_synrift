{
 "cells": [
  {
   "cell_type": "markdown",
   "id": "466c0240",
   "metadata": {},
   "source": [
    "# Evaluate thickness from TIN file with doeval\n",
    "\n",
    "This workflow evaluates the cumdiff attribute from the TIN file against the expected thickness from a well in a set of badlands experiments. \n",
    "This is fast and usefule as a first pass evaluation of experiment results.\n",
    "\n",
    "+ extract properties from the final TIN file in each experiment and save them to an hdf5 file.\n",
    "+ generate a doeval compatible csv with the all of the attributes from the final timestep of each experiment.\n",
    "+ run doeval against the design table and csv outputs.\n",
    "\n"
   ]
  },
  {
   "cell_type": "code",
   "execution_count": null,
   "id": "6edaa98f",
   "metadata": {},
   "outputs": [],
   "source": [
    "# Generate the model extract by extracting well attributes from final TIN \n",
    "# The default here is to return the nearest point to the well location.\n",
    "#\n",
    "# if srch_dist is set to a number this will return (many or 0) results from within a radius srch_dist=number \n",
    "\n",
    "import badlands_doe_toolset.postproc_utils as ppu\n",
    "wellfile='data/well_location_model.csv'\n",
    "model_extract='36_well_ALL_TIN.hdf5'\n",
    "\n",
    "ppu.extract_WellThick_ALL_TIN('badlands_xml',wellfile,model_extract)\n"
   ]
  },
  {
   "cell_type": "code",
   "execution_count": null,
   "id": "1662ba63",
   "metadata": {},
   "outputs": [],
   "source": [
    "# generate doeval compatible csv file from the hdf5 file output of the previous step.\n",
    "# the doeval formatted output file is saved to outdir+doeval_well_thickness.csv\n",
    "\n",
    "import lib.well_doe_similarity as wellsim\n",
    "\n",
    "model_extract='results_final/36_well_ALL_TIN.hdf5'\n",
    "wellfile='data/well_location_model.csv'\n",
    "\n",
    "g=wellsim.exp_thickness_doeval(model_extract,wellfile,expattrib='cumdiff',outdir='results_final')\n",
    "\n",
    "# evaluate dataframe\n",
    "g\n",
    "  "
   ]
  },
  {
   "cell_type": "code",
   "execution_count": null,
   "id": "073c327e",
   "metadata": {},
   "outputs": [],
   "source": [
    "# run doeval using the output file and the design table for the experiment set.\n",
    "\n",
    "import doegen.doeval as doeval\n",
    "\n",
    "designtable='design_results/Designtable_best_Nrun36.csv'\n",
    "input_data_file='./results_final/doeval_well_thickness.csv'\n",
    "output_directory='results_final/well_thickness/'\n",
    "\n",
    "doeval.main('.',input_data_file,designtable,output_directory)\n"
   ]
  },
  {
   "cell_type": "code",
   "execution_count": null,
   "id": "fbfdc08d",
   "metadata": {},
   "outputs": [],
   "source": []
  }
 ],
 "metadata": {
  "kernelspec": {
   "display_name": "Python 3 (ipykernel)",
   "language": "python",
   "name": "python3"
  },
  "language_info": {
   "codemirror_mode": {
    "name": "ipython",
    "version": 3
   },
   "file_extension": ".py",
   "mimetype": "text/x-python",
   "name": "python",
   "nbconvert_exporter": "python",
   "pygments_lexer": "ipython3",
   "version": "3.9.2"
  }
 },
 "nbformat": 4,
 "nbformat_minor": 5
}
