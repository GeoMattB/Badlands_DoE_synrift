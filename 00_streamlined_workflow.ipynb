{
 "cells": [
  {
   "cell_type": "markdown",
   "id": "55195622",
   "metadata": {},
   "source": [
    "## DoEgen Synrift Example\n",
    "\n",
    "<img src=\".\\images\\doegen_exp_design.png\" alt=\"drawing\" width=\"50%\"/>\n",
    "\n",
    "***set up DoEgen Excel configuration file prior to this***"
   ]
  },
  {
   "cell_type": "code",
   "execution_count": null,
   "id": "10aa4b19",
   "metadata": {},
   "outputs": [],
   "source": [
    "#install the badlands_doe_toolset\n",
    "!pip install -i https://test.pypi.org/simple/ badlands-doe-toolset\n"
   ]
  },
  {
   "cell_type": "code",
   "execution_count": 1,
   "id": "d937ce98",
   "metadata": {},
   "outputs": [],
   "source": [
    "import numpy as np\n",
    "import pandas as pd\n",
    "import warnings\n",
    "warnings.simplefilter(action='ignore', category=FutureWarning) # deprecation warnings from DoEgen are supressed\n",
    "import os\n",
    "import contextlib\n",
    "\n",
    "import doegen.doegen as doegen\n",
    "import doegen.doeval as doeval\n",
    "\n",
    "import badlands_doe_toolset.csv_to_badlands as genxml #DoEgen badlands csv to xml generation \n",
    "import badlands_doe_toolset.postproc_utils as ppu\n",
    "import badlands_doe_toolset.well_doe_similarity as wellsim\n",
    "import badlands_doe_toolset.badlands_multiproc_run as mpr"
   ]
  },
  {
   "cell_type": "code",
   "execution_count": null,
   "id": "bca4e3fb",
   "metadata": {},
   "outputs": [],
   "source": []
  },
  {
   "cell_type": "markdown",
   "id": "7cb44089",
   "metadata": {},
   "source": [
    "## Run DoEgen main process ##"
   ]
  },
  {
   "cell_type": "code",
   "execution_count": null,
   "id": "f67bc421",
   "metadata": {},
   "outputs": [],
   "source": [
    "# Run the main DoEgen process to build the experiment design tables and evaluate inputs\n",
    "# redirect output to log file\n",
    "# calls DoEgen and loads the excel file with configuration parameters\n",
    "with open('doegen_log.txt', 'w') as f:                  \n",
    "    with contextlib.redirect_stdout(f):\n",
    "        doegen.main('Experiment_setup_badlands.xlsx',\\\n",
    "            path='.', \\\n",
    "            outpath='design_results/', \\\n",
    "            nrun_max=300, \\\n",
    "            maxtime_per_run=120, \\\n",
    "            delta_nrun=4)                               \n",
    "\n",
    "# at the end of the process, print the design result summary\n",
    "with open('./design_results/Experiment_Design_selection_summary.txt') as f:\n",
    "    b = f.read()\n",
    "    print (b)\n",
    "    \n"
   ]
  },
  {
   "cell_type": "markdown",
   "id": "e8d49911",
   "metadata": {},
   "source": [
    "## Generate the Badlands experiment configuration files."
   ]
  },
  {
   "cell_type": "code",
   "execution_count": null,
   "id": "55b91581",
   "metadata": {},
   "outputs": [],
   "source": [
    "# This creates the models xml files using the selected DoEgen Design Table (csv file)\n",
    "# select the optimal or best design table from the DoEgen outputs in design_results.\n",
    "# all of the experiment / model configuration files are written to the \"badlands_xml\" directory\n",
    "genxml.main('design_results/Designtable_optimal_Nrun120.csv')"
   ]
  },
  {
   "cell_type": "markdown",
   "id": "2ccdce3e",
   "metadata": {},
   "source": [
    "## Run the Badlands experiments in parallel\n"
   ]
  },
  {
   "cell_type": "code",
   "execution_count": null,
   "id": "265698b8",
   "metadata": {},
   "outputs": [],
   "source": [
    "# specify the location of the suite of experiment configuratio files and the optimal number of experiments to run in parallel.\n",
    "experiment_run=mpr.badlands_multi_experiment('badlands_xml', proc=4)"
   ]
  },
  {
   "cell_type": "markdown",
   "id": "ea82d6b2",
   "metadata": {},
   "source": [
    "## Post Processing\n",
    "***Interpolate to final stratal file***\n"
   ]
  },
  {
   "cell_type": "code",
   "execution_count": null,
   "id": "4ced7233",
   "metadata": {},
   "outputs": [],
   "source": [
    "# Select the attributes present in the tin.time.XX.hdf5 files that you want to interpolate onto the final stratal grid.\n",
    "attributes=['lake','cumdiff']\n",
    "ppu.strat_tin_write_doegen('badlands_xml',attributes)\n",
    "\n",
    "## A similar function is available for calculated properties \n",
    "# attributes = ['fetch']\n",
    "# ppu.strat_flow_write_doegen('badlands_xml',attributes)"
   ]
  },
  {
   "cell_type": "markdown",
   "id": "79500a89",
   "metadata": {},
   "source": [
    "## Extract data from psuedo well locations in all experiments\n"
   ]
  },
  {
   "cell_type": "code",
   "execution_count": 2,
   "id": "f68f6037",
   "metadata": {},
   "outputs": [
    {
     "name": "stdout",
     "output_type": "stream",
     "text": [
      "Checking XML files are valid. If there is an error after this then there is something wrong with your configuration xml.\n",
      "All good, simple xml check passed, number of experiment configuration files loaded: 90\n",
      "load data from: Experiments/experiment_1/h5/sed.time300.hdf5\n"
     ]
    },
    {
     "ename": "FileNotFoundError",
     "evalue": "[Errno 2] Unable to open file (unable to open file: name = 'Experiments/experiment_1/h5/sed.time300.hdf5', errno = 2, error message = 'No such file or directory', flags = 1, o_flags = 2)",
     "output_type": "error",
     "traceback": [
      "\u001b[0;31m---------------------------------------------------------------------------\u001b[0m",
      "\u001b[0;31mFileNotFoundError\u001b[0m                         Traceback (most recent call last)",
      "\u001b[0;32m/tmp/ipykernel_9110/2815076425.py\u001b[0m in \u001b[0;36m<module>\u001b[0;34m\u001b[0m\n\u001b[1;32m      1\u001b[0m \u001b[0;31m# note well location file format is required, see example.\u001b[0m\u001b[0;34m\u001b[0m\u001b[0;34m\u001b[0m\u001b[0;34m\u001b[0m\u001b[0m\n\u001b[0;32m----> 2\u001b[0;31m \u001b[0mExperiment\u001b[0m\u001b[0;34m=\u001b[0m\u001b[0mppu\u001b[0m\u001b[0;34m.\u001b[0m\u001b[0mextract_WellLayer_all\u001b[0m\u001b[0;34m(\u001b[0m\u001b[0;34m'badlands_xml'\u001b[0m\u001b[0;34m,\u001b[0m \u001b[0;34m'data/well_location_model.csv'\u001b[0m\u001b[0;34m,\u001b[0m\u001b[0moutfile\u001b[0m\u001b[0;34m=\u001b[0m\u001b[0;34m'experiment_well_extracts.hdf5'\u001b[0m\u001b[0;34m)\u001b[0m\u001b[0;34m\u001b[0m\u001b[0;34m\u001b[0m\u001b[0m\n\u001b[0m",
      "\u001b[0;32m~/.local/lib/python3.9/site-packages/badlands_doe_toolset-0.1.4-py3.9.egg/badlands_doe_toolset/postproc_utils.py\u001b[0m in \u001b[0;36mextract_WellLayer_all\u001b[0;34m(xml_dir, wellfile, outfile, outdir)\u001b[0m\n\u001b[1;32m    633\u001b[0m \u001b[0;31m#        print ('extract data from '+j)\u001b[0m\u001b[0;34m\u001b[0m\u001b[0;34m\u001b[0m\u001b[0;34m\u001b[0m\u001b[0m\n\u001b[1;32m    634\u001b[0m         \u001b[0mexp_loop\u001b[0m\u001b[0;34m=\u001b[0m\u001b[0mWellmodel\u001b[0m\u001b[0;34m(\u001b[0m\u001b[0;34m)\u001b[0m\u001b[0;34m\u001b[0m\u001b[0;34m\u001b[0m\u001b[0m\n\u001b[0;32m--> 635\u001b[0;31m         \u001b[0mexp_loop\u001b[0m\u001b[0;34m.\u001b[0m\u001b[0mextractWellsExperiment\u001b[0m\u001b[0;34m(\u001b[0m\u001b[0mj\u001b[0m\u001b[0;34m,\u001b[0m\u001b[0mwellfile\u001b[0m\u001b[0;34m,\u001b[0m\u001b[0mstr\u001b[0m\u001b[0;34m(\u001b[0m\u001b[0moutdir\u001b[0m\u001b[0;34m+\u001b[0m\u001b[0moutfile\u001b[0m\u001b[0;34m)\u001b[0m\u001b[0;34m)\u001b[0m\u001b[0;34m\u001b[0m\u001b[0;34m\u001b[0m\u001b[0m\n\u001b[0m\u001b[1;32m    636\u001b[0m \u001b[0;34m\u001b[0m\u001b[0m\n\u001b[1;32m    637\u001b[0m \u001b[0;32mdef\u001b[0m \u001b[0mextract_WellThick_ALL_TIN\u001b[0m\u001b[0;34m(\u001b[0m\u001b[0mxml_dir\u001b[0m\u001b[0;34m,\u001b[0m\u001b[0mwellfile\u001b[0m\u001b[0;34m,\u001b[0m\u001b[0moutfile\u001b[0m\u001b[0;34m=\u001b[0m\u001b[0;34m'experiment_well_extracts'\u001b[0m\u001b[0;34m,\u001b[0m\u001b[0moutdir\u001b[0m\u001b[0;34m=\u001b[0m\u001b[0;34m'results_final/'\u001b[0m\u001b[0;34m,\u001b[0m\u001b[0msrch_dist\u001b[0m\u001b[0;34m=\u001b[0m\u001b[0;34m'nearest'\u001b[0m\u001b[0;34m)\u001b[0m\u001b[0;34m:\u001b[0m\u001b[0;34m\u001b[0m\u001b[0;34m\u001b[0m\u001b[0m\n",
      "\u001b[0;32m~/.local/lib/python3.9/site-packages/badlands_doe_toolset-0.1.4-py3.9.egg/badlands_doe_toolset/postproc_utils.py\u001b[0m in \u001b[0;36mextractWellsExperiment\u001b[0;34m(self, modelfile, wellfile, outfile_loc)\u001b[0m\n\u001b[1;32m    586\u001b[0m         \u001b[0mstrat\u001b[0m\u001b[0;34m=\u001b[0m\u001b[0mStratadata\u001b[0m\u001b[0;34m(\u001b[0m\u001b[0;34m)\u001b[0m\u001b[0;34m\u001b[0m\u001b[0;34m\u001b[0m\u001b[0m\n\u001b[1;32m    587\u001b[0m         \u001b[0mprint\u001b[0m\u001b[0;34m(\u001b[0m\u001b[0;34m'load data from: '\u001b[0m\u001b[0;34m+\u001b[0m\u001b[0mstrat_file\u001b[0m\u001b[0;34m)\u001b[0m\u001b[0;34m\u001b[0m\u001b[0;34m\u001b[0m\u001b[0m\n\u001b[0;32m--> 588\u001b[0;31m         \u001b[0mstrat\u001b[0m\u001b[0;34m.\u001b[0m\u001b[0mloadStrat\u001b[0m\u001b[0;34m(\u001b[0m\u001b[0mstrat_file\u001b[0m\u001b[0;34m)\u001b[0m\u001b[0;34m\u001b[0m\u001b[0;34m\u001b[0m\u001b[0m\n\u001b[0m\u001b[1;32m    589\u001b[0m         \u001b[0mstratgrid\u001b[0m \u001b[0;34m=\u001b[0m \u001b[0mpd\u001b[0m\u001b[0;34m.\u001b[0m\u001b[0mDataFrame\u001b[0m\u001b[0;34m(\u001b[0m\u001b[0;34m{\u001b[0m\u001b[0;34m'X'\u001b[0m\u001b[0;34m:\u001b[0m\u001b[0mstrat\u001b[0m\u001b[0;34m.\u001b[0m\u001b[0mx\u001b[0m\u001b[0;34m.\u001b[0m\u001b[0mflatten\u001b[0m\u001b[0;34m(\u001b[0m\u001b[0;34m)\u001b[0m\u001b[0;34m,\u001b[0m\u001b[0;34m'Y'\u001b[0m\u001b[0;34m:\u001b[0m\u001b[0mstrat\u001b[0m\u001b[0;34m.\u001b[0m\u001b[0my\u001b[0m\u001b[0;34m.\u001b[0m\u001b[0mflatten\u001b[0m\u001b[0;34m(\u001b[0m\u001b[0;34m)\u001b[0m\u001b[0;34m}\u001b[0m\u001b[0;34m)\u001b[0m\u001b[0;34m.\u001b[0m\u001b[0mto_numpy\u001b[0m\u001b[0;34m(\u001b[0m\u001b[0;34m)\u001b[0m \u001b[0;31m# format sed.time input xy input for kdtree\u001b[0m\u001b[0;34m\u001b[0m\u001b[0;34m\u001b[0m\u001b[0m\n\u001b[1;32m    590\u001b[0m \u001b[0;34m\u001b[0m\u001b[0m\n",
      "\u001b[0;32m~/.local/lib/python3.9/site-packages/badlands_doe_toolset-0.1.4-py3.9.egg/badlands_doe_toolset/postproc_utils.py\u001b[0m in \u001b[0;36mloadStrat\u001b[0;34m(self, stratfile)\u001b[0m\n\u001b[1;32m     36\u001b[0m         \u001b[0mRead\u001b[0m \u001b[0mthe\u001b[0m \u001b[0mBadlands\u001b[0m \u001b[0mHDF5\u001b[0m \u001b[0mstratal\u001b[0m \u001b[0mfile\u001b[0m \u001b[0;34m(\u001b[0m\u001b[0msed\u001b[0m\u001b[0;34m.\u001b[0m\u001b[0mtimeXXX\u001b[0m\u001b[0;34m.\u001b[0m\u001b[0mhdf5\u001b[0m\u001b[0;34m)\u001b[0m\u001b[0;34m.\u001b[0m\u001b[0;34m\u001b[0m\u001b[0;34m\u001b[0m\u001b[0m\n\u001b[1;32m     37\u001b[0m         \"\"\"\n\u001b[0;32m---> 38\u001b[0;31m         \u001b[0mdf\u001b[0m \u001b[0;34m=\u001b[0m \u001b[0mh5py\u001b[0m\u001b[0;34m.\u001b[0m\u001b[0mFile\u001b[0m\u001b[0;34m(\u001b[0m\u001b[0mstratfile\u001b[0m\u001b[0;34m,\u001b[0m \u001b[0;34m'r+'\u001b[0m\u001b[0;34m)\u001b[0m\u001b[0;34m\u001b[0m\u001b[0;34m\u001b[0m\u001b[0m\n\u001b[0m\u001b[1;32m     39\u001b[0m         \u001b[0mcoords\u001b[0m \u001b[0;34m=\u001b[0m \u001b[0mnp\u001b[0m\u001b[0;34m.\u001b[0m\u001b[0marray\u001b[0m\u001b[0;34m(\u001b[0m\u001b[0;34m(\u001b[0m\u001b[0mdf\u001b[0m\u001b[0;34m[\u001b[0m\u001b[0;34m'/coords'\u001b[0m\u001b[0;34m]\u001b[0m\u001b[0;34m)\u001b[0m\u001b[0;34m)\u001b[0m\u001b[0;34m\u001b[0m\u001b[0;34m\u001b[0m\u001b[0m\n\u001b[1;32m     40\u001b[0m         \u001b[0mx\u001b[0m\u001b[0;34m,\u001b[0m\u001b[0my\u001b[0m \u001b[0;34m=\u001b[0m \u001b[0mnp\u001b[0m\u001b[0;34m.\u001b[0m\u001b[0mhsplit\u001b[0m\u001b[0;34m(\u001b[0m\u001b[0mcoords\u001b[0m\u001b[0;34m,\u001b[0m \u001b[0;36m2\u001b[0m\u001b[0;34m)\u001b[0m\u001b[0;34m\u001b[0m\u001b[0;34m\u001b[0m\u001b[0m\n",
      "\u001b[0;32m/usr/local/lib/python3.9/dist-packages/h5py/_hl/files.py\u001b[0m in \u001b[0;36m__init__\u001b[0;34m(self, name, mode, driver, libver, userblock_size, swmr, rdcc_nslots, rdcc_nbytes, rdcc_w0, track_order, fs_strategy, fs_persist, fs_threshold, fs_page_size, page_buf_size, min_meta_keep, min_raw_keep, locking, **kwds)\u001b[0m\n\u001b[1;32m    505\u001b[0m                                  \u001b[0mfs_persist\u001b[0m\u001b[0;34m=\u001b[0m\u001b[0mfs_persist\u001b[0m\u001b[0;34m,\u001b[0m \u001b[0mfs_threshold\u001b[0m\u001b[0;34m=\u001b[0m\u001b[0mfs_threshold\u001b[0m\u001b[0;34m,\u001b[0m\u001b[0;34m\u001b[0m\u001b[0;34m\u001b[0m\u001b[0m\n\u001b[1;32m    506\u001b[0m                                  fs_page_size=fs_page_size)\n\u001b[0;32m--> 507\u001b[0;31m                 \u001b[0mfid\u001b[0m \u001b[0;34m=\u001b[0m \u001b[0mmake_fid\u001b[0m\u001b[0;34m(\u001b[0m\u001b[0mname\u001b[0m\u001b[0;34m,\u001b[0m \u001b[0mmode\u001b[0m\u001b[0;34m,\u001b[0m \u001b[0muserblock_size\u001b[0m\u001b[0;34m,\u001b[0m \u001b[0mfapl\u001b[0m\u001b[0;34m,\u001b[0m \u001b[0mfcpl\u001b[0m\u001b[0;34m,\u001b[0m \u001b[0mswmr\u001b[0m\u001b[0;34m=\u001b[0m\u001b[0mswmr\u001b[0m\u001b[0;34m)\u001b[0m\u001b[0;34m\u001b[0m\u001b[0;34m\u001b[0m\u001b[0m\n\u001b[0m\u001b[1;32m    508\u001b[0m \u001b[0;34m\u001b[0m\u001b[0m\n\u001b[1;32m    509\u001b[0m             \u001b[0;32mif\u001b[0m \u001b[0misinstance\u001b[0m\u001b[0;34m(\u001b[0m\u001b[0mlibver\u001b[0m\u001b[0;34m,\u001b[0m \u001b[0mtuple\u001b[0m\u001b[0;34m)\u001b[0m\u001b[0;34m:\u001b[0m\u001b[0;34m\u001b[0m\u001b[0;34m\u001b[0m\u001b[0m\n",
      "\u001b[0;32m/usr/local/lib/python3.9/dist-packages/h5py/_hl/files.py\u001b[0m in \u001b[0;36mmake_fid\u001b[0;34m(name, mode, userblock_size, fapl, fcpl, swmr)\u001b[0m\n\u001b[1;32m    220\u001b[0m         \u001b[0mfid\u001b[0m \u001b[0;34m=\u001b[0m \u001b[0mh5f\u001b[0m\u001b[0;34m.\u001b[0m\u001b[0mopen\u001b[0m\u001b[0;34m(\u001b[0m\u001b[0mname\u001b[0m\u001b[0;34m,\u001b[0m \u001b[0mflags\u001b[0m\u001b[0;34m,\u001b[0m \u001b[0mfapl\u001b[0m\u001b[0;34m=\u001b[0m\u001b[0mfapl\u001b[0m\u001b[0;34m)\u001b[0m\u001b[0;34m\u001b[0m\u001b[0;34m\u001b[0m\u001b[0m\n\u001b[1;32m    221\u001b[0m     \u001b[0;32melif\u001b[0m \u001b[0mmode\u001b[0m \u001b[0;34m==\u001b[0m \u001b[0;34m'r+'\u001b[0m\u001b[0;34m:\u001b[0m\u001b[0;34m\u001b[0m\u001b[0;34m\u001b[0m\u001b[0m\n\u001b[0;32m--> 222\u001b[0;31m         \u001b[0mfid\u001b[0m \u001b[0;34m=\u001b[0m \u001b[0mh5f\u001b[0m\u001b[0;34m.\u001b[0m\u001b[0mopen\u001b[0m\u001b[0;34m(\u001b[0m\u001b[0mname\u001b[0m\u001b[0;34m,\u001b[0m \u001b[0mh5f\u001b[0m\u001b[0;34m.\u001b[0m\u001b[0mACC_RDWR\u001b[0m\u001b[0;34m,\u001b[0m \u001b[0mfapl\u001b[0m\u001b[0;34m=\u001b[0m\u001b[0mfapl\u001b[0m\u001b[0;34m)\u001b[0m\u001b[0;34m\u001b[0m\u001b[0;34m\u001b[0m\u001b[0m\n\u001b[0m\u001b[1;32m    223\u001b[0m     \u001b[0;32melif\u001b[0m \u001b[0mmode\u001b[0m \u001b[0;32min\u001b[0m \u001b[0;34m[\u001b[0m\u001b[0;34m'w-'\u001b[0m\u001b[0;34m,\u001b[0m \u001b[0;34m'x'\u001b[0m\u001b[0;34m]\u001b[0m\u001b[0;34m:\u001b[0m\u001b[0;34m\u001b[0m\u001b[0;34m\u001b[0m\u001b[0m\n\u001b[1;32m    224\u001b[0m         \u001b[0mfid\u001b[0m \u001b[0;34m=\u001b[0m \u001b[0mh5f\u001b[0m\u001b[0;34m.\u001b[0m\u001b[0mcreate\u001b[0m\u001b[0;34m(\u001b[0m\u001b[0mname\u001b[0m\u001b[0;34m,\u001b[0m \u001b[0mh5f\u001b[0m\u001b[0;34m.\u001b[0m\u001b[0mACC_EXCL\u001b[0m\u001b[0;34m,\u001b[0m \u001b[0mfapl\u001b[0m\u001b[0;34m=\u001b[0m\u001b[0mfapl\u001b[0m\u001b[0;34m,\u001b[0m \u001b[0mfcpl\u001b[0m\u001b[0;34m=\u001b[0m\u001b[0mfcpl\u001b[0m\u001b[0;34m)\u001b[0m\u001b[0;34m\u001b[0m\u001b[0;34m\u001b[0m\u001b[0m\n",
      "\u001b[0;32mh5py/_objects.pyx\u001b[0m in \u001b[0;36mh5py._objects.with_phil.wrapper\u001b[0;34m()\u001b[0m\n",
      "\u001b[0;32mh5py/_objects.pyx\u001b[0m in \u001b[0;36mh5py._objects.with_phil.wrapper\u001b[0;34m()\u001b[0m\n",
      "\u001b[0;32mh5py/h5f.pyx\u001b[0m in \u001b[0;36mh5py.h5f.open\u001b[0;34m()\u001b[0m\n",
      "\u001b[0;31mFileNotFoundError\u001b[0m: [Errno 2] Unable to open file (unable to open file: name = 'Experiments/experiment_1/h5/sed.time300.hdf5', errno = 2, error message = 'No such file or directory', flags = 1, o_flags = 2)"
     ]
    }
   ],
   "source": [
    "# note well location file format is required, see example.\n",
    "Experiment=ppu.extract_WellLayer_all('badlands_xml', 'data/well_location_model.csv',outfile='experiment_well_extracts.hdf5')\n"
   ]
  },
  {
   "cell_type": "markdown",
   "id": "f4a5ef02",
   "metadata": {},
   "source": [
    "## Compute observed to experimental similarity comparison value and generate DoEval input files\n"
   ]
  },
  {
   "cell_type": "code",
   "execution_count": null,
   "id": "950c25fb",
   "metadata": {},
   "outputs": [],
   "source": [
    "# This requires a few input parameters so I've split out the parameters here to make it more obvious.\n",
    "\n",
    "model_extract='results_final/experiment_well_extracts.hdf5' # the model extracts hdf5 file.\n",
    "wells_file = 'data/well_location_model.csv' # the location of the file with information about all wells.\n",
    "\n",
    "obslog='GR' # the name of the log/observation column in the csv file.\n",
    "expattrib='Lake' # the name of the attibute in the hdf5 extracted values\n",
    "minthkRatio=0.8 # experimental thickness / measured thickness cutoff ratio for evaluating the obslog/expattrib similarity.\n",
    "\n",
    "analysis_results=wellsim.exp_attr_sim_DoEgen(model_extract,obslog,expattrib,wells_file,minthkRatio,exp_srm=5,log_smth=10,outdir='results_final')\n"
   ]
  },
  {
   "cell_type": "markdown",
   "id": "4e6ec7ea",
   "metadata": {},
   "source": [
    "## DoEval on results"
   ]
  },
  {
   "cell_type": "code",
   "execution_count": null,
   "id": "e2730922",
   "metadata": {},
   "outputs": [],
   "source": [
    "# the design table used to generate the experiment configurations.\n",
    "designtable='design_results/Designtable_best_Nrun120.csv'\n",
    "\n",
    "# doeval.main(initial_directory,DoEval file with attribute to be evaluated, the designtable, the directory to output the results to)\n",
    "# This produces DoEvaloutputs based on the ratio of experimental/measured well thicknesses.\n",
    "doeval.main('.','./results_final/doeval_well_thickRatio.csv',designtable,'results_final/well_thickness/')\n",
    "\n",
    "# This evaluates the well similarities.\n",
    "doeval.main('.','./results_final/doeval_well_similarity.csv',designtable,'results_final/well_similarity/')\n"
   ]
  },
  {
   "cell_type": "markdown",
   "id": "5f236e06",
   "metadata": {},
   "source": [
    "## Review results\n"
   ]
  },
  {
   "cell_type": "code",
   "execution_count": null,
   "id": "fa40d1e8",
   "metadata": {},
   "outputs": [],
   "source": [
    "# Lets have a look at some of the results.\n",
    "# The results for the Joll01 attribute/log similarity can be viewed\n",
    "Joll01_sim=pd.read_csv('results_final/well_similarity/Experiment_Joll01_RMSE_Top10_sorted.csv')\n",
    "Joll01_sim"
   ]
  },
  {
   "cell_type": "markdown",
   "id": "7960323d",
   "metadata": {},
   "source": [
    "## Plot measured vs. experimental attributes\n",
    "\n",
    "The plots from this are saved to the **results_final/plots** folder."
   ]
  },
  {
   "cell_type": "code",
   "execution_count": null,
   "id": "309947f7",
   "metadata": {
    "scrolled": false
   },
   "outputs": [],
   "source": [
    "#The well_attr_plot function plots can be produced at any time \n",
    "wellfile = 'data/well_location_model.csv'\n",
    "#model_extract=h5py.File(psuedowells,'r')\n",
    "model_extract='results_final/experiment_well_extracts.hdf5'\n",
    "well_log_file='data/Jolly1_GR.csv' # this is the location of the file with the measured / log property\n",
    "obslog='GR' #this is name of the column in the measured log or well property to be compared to the experiments\n",
    "\n",
    "prefix=\"experiment_\"\n",
    "explog='Lake' # the name of the attribute in the extracted experiment file\n",
    "Well='Joll01' # the well name string from the well location file.\n",
    "\n",
    "for i in Joll01_sim['Nexp']:\n",
    "    Exp=prefix+str(i)\n",
    "    #print(wellsim.well_attr_sim(model_extract,Exp,Well,obslog,well_log_file,explog,exp_srm=5,log_smth=10))\n",
    "    wellsim.well_attr_plot(model_extract,Exp,Well,obslog,well_log_file,explog,exp_srm=5,log_smth=10)\n",
    "    "
   ]
  },
  {
   "cell_type": "code",
   "execution_count": null,
   "id": "57dbe80c",
   "metadata": {
    "scrolled": true
   },
   "outputs": [],
   "source": [
    "#Depending on the number of experiments run it may be useful to plot all of the results.\n",
    "model_extract='results_final/experiment_well_extracts.hdf5'\n",
    "wellfile = 'data/well_location_model.csv'\n",
    "wellsim.well_attr_plot_DoEgen(model_extract,'GR',wellfile,'Lake')"
   ]
  },
  {
   "cell_type": "code",
   "execution_count": null,
   "id": "927f6596",
   "metadata": {
    "scrolled": true
   },
   "outputs": [],
   "source": [
    "# Or only the results for one experiment\n",
    "model_extract='results_final/experiment_well_extracts.hdf5'\n",
    "wellfile = 'data/well_location_model.csv'\n",
    "\n",
    "wellsim.exp_attr_plot(model_extract,'experiment_111','GR',wellfile,'Lake')\n",
    "\n"
   ]
  },
  {
   "cell_type": "code",
   "execution_count": null,
   "id": "9e5ae097",
   "metadata": {},
   "outputs": [],
   "source": []
  }
 ],
 "metadata": {
  "kernelspec": {
   "display_name": "Python 3 (ipykernel)",
   "language": "python",
   "name": "python3"
  },
  "language_info": {
   "codemirror_mode": {
    "name": "ipython",
    "version": 3
   },
   "file_extension": ".py",
   "mimetype": "text/x-python",
   "name": "python",
   "nbconvert_exporter": "python",
   "pygments_lexer": "ipython3",
   "version": "3.9.2"
  }
 },
 "nbformat": 4,
 "nbformat_minor": 5
}
